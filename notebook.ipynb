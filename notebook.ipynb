{
 "cells": [
  {
   "cell_type": "markdown",
   "metadata": {},
   "source": [
    "# [AdventOfCode](http://adventofcode.com/) 2015 solutions, a single line of bash per challenge\n",
    "\n",
    "This document is a [jupyter notebook](https://jupyter.org), to run it interactively you will need the [bash_kernel](https://github.com/takluyver/bash_kernel), but I don't recommend running it, as it chokes on commands with huge output.\n",
    "\n",
    "While the code presented here is neither efficient nor readable, it was fun to write."
   ]
  },
  {
   "cell_type": "markdown",
   "metadata": {
    "slideshow": {
     "slide_type": "slide"
    }
   },
   "source": [
    "### Preparations"
   ]
  },
  {
   "cell_type": "markdown",
   "metadata": {},
   "source": [
    "I will need some way to read challange input data, `d N` simply reads `data/N` and dumps its contents to stdout. Some data files are quite big, so I wrote `h` to read only the first few bytes/lines of the input files. Not every challenge is included here."
   ]
  },
  {
   "cell_type": "code",
   "execution_count": 56,
   "metadata": {
    "slideshow": {
     "slide_type": "fragment"
    }
   },
   "outputs": [],
   "source": [
    "d() { \n",
    "    cat \"data/${1:?Missing chall num}\"\n",
    "}\n",
    "h() { \n",
    "    local linesize=\"$(d \"$1\" | awk '{print length($0); exit}')\"\n",
    "    if test \"$linesize\" -gt 100\n",
    "    then d \"$1\" | head -c 40\n",
    "    else d \"$1\" | head -n 10\n",
    "    fi\n",
    "}"
   ]
  },
  {
   "cell_type": "markdown",
   "metadata": {},
   "source": [
    "## Day 1: Not Quite Lisp \n",
    "\n",
    "### part1\n",
    "\n",
    "\n",
    "> Santa was hoping for a white Christmas, but his weather machine's \"snow\" function is powered by stars, and he's fresh out!\n",
    "> To save Christmas, he needs you to collect fifty stars by December 25th.\n",
    "> \n",
    "> Collect stars by helping Santa solve puzzles.\n",
    "> Two puzzles will be made available on each day in the advent calendar; the second puzzle is unlocked when you complete the first.\n",
    "> Each puzzle grants one star. Good luck!\n",
    "> \n",
    "> Here's an easy puzzle to warm you up.\n",
    "> \n",
    "> Santa is trying to deliver presents in a large apartment building, but he can't find the right floor - the directions he got are a little confusing.\n",
    "> He starts on the ground floor (floor 0) and then follows the instructions one character at a time.\n",
    "> \n",
    "> An opening parenthesis, `(`, means he should go up one floor, and a closing parenthesis, `)`, means he should go down one floor.\n",
    "> \n",
    "> The apartment building is very tall, and the basement is very deep; he will never find the top or bottom floors.\n",
    "> \n",
    "> For example:\n",
    "> \n",
    "> - `(())` and `()()` both result in floor 0.\n",
    "> \n",
    "> - `(((` and `(()(()(` both result in floor 3.\n",
    "> \n",
    "> - `))(((((` also results in floor 3.\n",
    "> \n",
    "> - `())` and `))(` both result in floor -1 (the first basement level).\n",
    "> \n",
    "> - `)))` and `)())())` both result in floor -3.\n",
    "> \n",
    "> To what floor do the instructions take Santa?\n",
    "\n",
    "Lets see the input data first:"
   ]
  },
  {
   "cell_type": "code",
   "execution_count": 57,
   "metadata": {},
   "outputs": [
    {
     "name": "stdout",
     "output_type": "stream",
     "text": [
      "()()(()()()(()()((()((()))((()((((()()(("
     ]
    }
   ],
   "source": [
    "h 1"
   ]
  },
  {
   "cell_type": "markdown",
   "metadata": {},
   "source": [
    "Ok, so the challange is to count the two type of parenthesis and subtract them from each other. We could use `grep -c` or `sort | uniq -c` to count, but these methods are somewhat clumsy, so I went with a different approach: convert every `(` to `+1` and every `)` to `-1` then calculate the resulting expression. Lets do the conversion first, these lines all do the same"
   ]
  },
  {
   "cell_type": "code",
   "execution_count": 58,
   "metadata": {},
   "outputs": [
    {
     "name": "stdout",
     "output_type": "stream",
     "text": [
      "+1-1+1-1+1+1-1+1-1+1-1+1+1-1+1-1+1+1+1-1+1+1+1-1-1-1+1+1+1-1+1+1+1+1+1-1+1-1+1+1\n",
      "+1-1+1-1+1+1-1+1-1+1-1+1+1-1+1-1+1+1+1-1+1+1+1-1-1-1+1+1+1-1+1+1+1+1+1-1+1-1+1+1\n",
      "+1-1+1-1+1+1-1+1-1+1-1+1+1-1+1-1+1+1+1-1+1+1+1-1-1-1+1+1+1-1+1+1+1+1+1-1+1-1+1+1"
     ]
    }
   ],
   "source": [
    "h 1 | tr '()' +- | sed 's/./\\01/g'\n",
    "echo\n",
    "h 1 | sed 'y/()/+-/;s/./\\01/g'\n",
    "echo\n",
    "h 1 | sed 's/(/+1/g;s/)/-1/g'"
   ]
  },
  {
   "cell_type": "markdown",
   "metadata": {},
   "source": [
    "The binary calculator `bc` can be used to evaluate this expression:"
   ]
  },
  {
   "cell_type": "code",
   "execution_count": 59,
   "metadata": {},
   "outputs": [
    {
     "name": "stdout",
     "output_type": "stream",
     "text": [
      "(standard_in) 1: syntax error\n",
      "(standard_in) 1: syntax error\n"
     ]
    }
   ],
   "source": [
    "h 1 | sed 's/(/+1/g;s/)/-1/g' | bc"
   ]
  },
  {
   "cell_type": "markdown",
   "metadata": {},
   "source": [
    "Hmmm, `bc` chokes on the leading `+` sign. We can solve it by prepending  `0`. This can be done with `cat` and process substitution, or with the handy \"here string\" notation."
   ]
  },
  {
   "cell_type": "code",
   "execution_count": 60,
   "metadata": {},
   "outputs": [
    {
     "name": "stdout",
     "output_type": "stream",
     "text": [
      "280\n",
      "280\n"
     ]
    }
   ],
   "source": [
    "d 1 | cat <(printf 0) - | sed 's/(/+1/g;s/)/-1/g' | bc\n",
    "bc<<<0$(d 1|sed 's/(/+1/g;s/)/-1/g')"
   ]
  },
  {
   "cell_type": "markdown",
   "metadata": {},
   "source": [
    "### part2\n",
    "\n",
    "> Now, given the same instructions, find the position of the first character that causes him to enter the basement (floor -1).\n",
    "> The first character in the instructions has position 1, the second character has position 2, and so on.\n",
    "> \n",
    "> For example:\n",
    "> \n",
    "> - `)` causes him to enter the basement at character position 1.\n",
    "> \n",
    "> - `()())` causes him to enter the basement at character position 5.\n",
    "> \n",
    "> **What is the position of the character that causes Santa to first enter the basement?**\n",
    "\n",
    "I used `awk`, as any sane person would. `fold -w1` splits its input into 1-length lines."
   ]
  },
  {
   "cell_type": "code",
   "execution_count": 61,
   "metadata": {},
   "outputs": [
    {
     "name": "stdout",
     "output_type": "stream",
     "text": [
      "1797\n"
     ]
    }
   ],
   "source": [
    "d 1|fold -w1|awk '{s+=$1==\"(\"?1:-1;if(s<0){print NR;exit}}'"
   ]
  },
  {
   "cell_type": "markdown",
   "metadata": {},
   "source": [
    "## Day 2: I Was Told There Would Be No Math\n",
    "\n",
    "### part1\n",
    "\n",
    "> The elves are running low on wrapping paper, and so they need to submit an order for more.\n",
    "> They have a list of the dimensions (length `l`, width `w`, and height `h`) of each present, and only want to order exactly as much as they need.\n",
    "> \n",
    "> Fortunately, every present is a box (a perfect right rectangular prism), which makes calculating the required wrapping paper for each gift a little easier: find the surface area of the box, which is `2*l*w + 2*w*h + 2*h*l`.\n",
    "> The elves also need a little extra paper for each present: the area of the smallest side.\n",
    "> \n",
    "> For example:\n",
    "> \n",
    "> - A present with dimensions `2x3x4` requires `2*6 + 2*12 + 2*8 = 52` square feet of wrapping paper plus 6 square feet of slack, for a total of 58 square feet.\n",
    "> \n",
    "> - A present with dimensions `1x1x10` requires `2*1 + 2*10 + 2*10 = 42` square feet of wrapping paper plus 1 square foot of slack, for a total of 43 square feet.\n",
    "> \n",
    "> All numbers in the elves' list are in feet.\n",
    "> \n",
    "> **How many total square feet of wrapping paper should they order?**\n",
    "\n",
    "Lets see the input:"
   ]
  },
  {
   "cell_type": "code",
   "execution_count": 62,
   "metadata": {},
   "outputs": [
    {
     "name": "stdout",
     "output_type": "stream",
     "text": [
      "3x11x24\n",
      "13x5x19\n",
      "1x9x27\n",
      "24x8x21\n",
      "6x8x17\n",
      "19x18x22\n",
      "10x9x12\n",
      "12x2x5\n",
      "26x6x11\n",
      "9x23x15\n"
     ]
    }
   ],
   "source": [
    "h 2"
   ]
  },
  {
   "cell_type": "markdown",
   "metadata": {},
   "source": [
    "I really liked turning the input into an arithmetic expression, so I use that method here too:"
   ]
  },
  {
   "cell_type": "code",
   "execution_count": 63,
   "metadata": {},
   "outputs": [
    {
     "name": "stdout",
     "output_type": "stream",
     "text": [
      "3*2+11*2+24\n",
      "13*2+5*2+19\n",
      "1*2+9*2+27\n",
      "24*2+8*2+21\n",
      "6*2+8*2+17\n",
      "19*2+18*2+22\n",
      "10*2+9*2+12\n",
      "12*2+2*2+5\n",
      "26*2+6*2+11\n",
      "9*2+23*2+15\n"
     ]
    }
   ],
   "source": [
    "h 2 | awk -Fx -vOFS='*2+' '{print $1, $2, $3}'"
   ]
  },
  {
   "cell_type": "markdown",
   "metadata": {},
   "source": [
    "I sorted the dimensions to calculate the smallest side:"
   ]
  },
  {
   "cell_type": "code",
   "execution_count": 64,
   "metadata": {},
   "outputs": [
    {
     "name": "stdout",
     "output_type": "stream",
     "text": [
      "33*2+72*2+264*2+3*11+65*2+247*2+95*2+5*13+9*2+27*2+243*2+1*9+192*2+504*2+168*2+8*21+48*2+102*2+136*2+6*8+342*2+418*2+396*2+18*19+90*2+120*2+108*2+9*10+24*2+60*2+10*2+2*5+156*2+286*2+66*2+6*11+207*2+135*2+345*2+9*15\n"
     ]
    }
   ],
   "source": [
    "h 2 | awk -Fx -vOFS='*2+' '{split($0,a);asort(a,s);print $1*$2,$1*$3,$2*$3,s[1]\"*\"s[2]}'|paste -sd+"
   ]
  },
  {
   "cell_type": "code",
   "execution_count": 65,
   "metadata": {},
   "outputs": [
    {
     "name": "stdout",
     "output_type": "stream",
     "text": [
      "1588178\n"
     ]
    }
   ],
   "source": [
    "d 2 | awk -Fx -vOFS='*2+' '{split($0,a);asort(a,s);print $1*$2,$1*$3,$2*$3,s[1]*s[2]}'|paste -sd+|bc"
   ]
  },
  {
   "cell_type": "markdown",
   "metadata": {},
   "source": [
    "### part2\n",
    "\n",
    "> The elves are also running low on ribbon.\n",
    "> Ribbon is all the same width, so they only have to worry about the length they need to order, which they would again like to be exact.\n",
    "> \n",
    "> The ribbon required to wrap a present is the shortest distance around its sides, or the smallest perimeter of any one face.\n",
    "> Each present also requires a bow made out of ribbon as well; the feet of ribbon required for the perfect bow is equal to the cubic feet of volume of the present.\n",
    "> Don't ask how they tie the bow, though; they'll never tell.\n",
    "> \n",
    "> For example:\n",
    "> \n",
    "> - A present with dimensions `2x3x4` requires `2+2+3+3 = 10` feet of ribbon to wrap the present plus `2*3*4 = 24` feet of ribbon for the bow, for a total of 34 feet.\n",
    "> \n",
    "> - A present with dimensions `1x1x10` requires `1+1+1+1 = 4` feet of ribbon to wrap the present plus `1*1*10 = 10` feet of ribbon for the bow, for a total of 14 feet.\n",
    "> \n",
    "> **How many total feet of ribbon should they order?**\n",
    "\n",
    "\n",
    "We can simply turn the input lines into expressions calculating the volume:"
   ]
  },
  {
   "cell_type": "code",
   "execution_count": 66,
   "metadata": {},
   "outputs": [
    {
     "name": "stdout",
     "output_type": "stream",
     "text": [
      "3*11*24\n",
      "13*5*19\n",
      "1*9*27\n",
      "24*8*21\n",
      "6*8*17\n",
      "19*18*22\n",
      "10*9*12\n",
      "12*2*5\n",
      "26*6*11\n",
      "9*23*15\n"
     ]
    }
   ],
   "source": [
    "h 2 | tr x \\*"
   ]
  },
  {
   "cell_type": "markdown",
   "metadata": {},
   "source": [
    "By using awk to sort the numbers we can calculate half the \"shortest distance around the sides\". I used `sed p` to duplicate the result lines to have expressions for the .shortest distance around the sides."
   ]
  },
  {
   "cell_type": "code",
   "execution_count": 67,
   "metadata": {},
   "outputs": [
    {
     "name": "stdout",
     "output_type": "stream",
     "text": [
      "3+11\n",
      "3+11\n",
      "5+13\n",
      "5+13\n",
      "1+9\n",
      "1+9\n",
      "8+21\n",
      "8+21\n",
      "6+8\n",
      "6+8\n",
      "18+19\n",
      "18+19\n",
      "9+10\n",
      "9+10\n",
      "2+5\n",
      "2+5\n",
      "6+11\n",
      "6+11\n",
      "9+15\n",
      "9+15\n"
     ]
    }
   ],
   "source": [
    "h 2 | awk -Fx '{split($0,a);asort(a,b);print b[1]\"+\"b[2]}'|sed p"
   ]
  },
  {
   "cell_type": "markdown",
   "metadata": {},
   "source": [
    "Can these commands be combined to have the input read only once?\n",
    "\n",
    "```bash\n",
    "h 2 | tr x \\*\n",
    "h 2 | awk -Fx '{split($0,a);asort(a,b);print b[1]\"+\"b[2]}'|sed p\n",
    "```\n",
    "\n",
    "Yes, they can: `tee` does just that. `tee` with `>()` process substitution is very useful:"
   ]
  },
  {
   "cell_type": "code",
   "execution_count": 68,
   "metadata": {},
   "outputs": [
    {
     "name": "stdout",
     "output_type": "stream",
     "text": [
      "A\n",
      "A\n",
      "A\n",
      "B\n",
      "B\n",
      "B\n"
     ]
    },
    {
     "ename": "",
     "evalue": "1",
     "output_type": "error",
     "traceback": []
    }
   ],
   "source": [
    "yes A | head -n 3 | tee >(tr A B) >(tr A C)"
   ]
  },
  {
   "cell_type": "markdown",
   "metadata": {},
   "source": [
    "From the bash man page:\n",
    "\n",
    "> Process  substitution allows a process's input or output to be referred\n",
    "> to using a filename.  It takes the form of  <(list)  or  >(list).   The\n",
    "> process  list is run asynchronously, and its input or output appears as\n",
    "> a filename.  This filename is passed as an argument to the current com‐\n",
    "> mand  as  the  result  of  the expansion.  If the >(list) form is used,\n",
    "> writing to the file will provide input for list.  If the  <(list)  form\n",
    "> is  used,  the  file passed as an argument should be read to obtain the\n",
    "> output of list.  Process substitution is supported on systems that sup‐\n",
    "> port named pipes (FIFOs) or the /dev/fd method of naming open files.\n"
   ]
  },
  {
   "cell_type": "code",
   "execution_count": 69,
   "metadata": {},
   "outputs": [
    {
     "name": "stdout",
     "output_type": "stream",
     "text": [
      "3*11*24\n",
      "13*5*19\n",
      "1*9*27\n",
      "24*8*21\n",
      "6*8*17\n",
      "19*18*22\n",
      "10*9*12\n",
      "12*2*5\n",
      "26*6*11\n",
      "9*23*15\n",
      "3+11\n",
      "3+11\n",
      "5+13\n",
      "5+13\n",
      "1+9\n",
      "1+9\n",
      "8+21\n",
      "8+21\n",
      "6+8\n",
      "6+8\n",
      "18+19\n",
      "18+19\n",
      "9+10\n",
      "9+10\n",
      "2+5\n",
      "2+5\n",
      "6+11\n",
      "6+11\n",
      "9+15\n",
      "9+15\n"
     ]
    }
   ],
   "source": [
    "h 2|tr x \\*|tee >(awk -F\\* '{split($0,a);asort(a,b);print b[1]\"+\"b[2]}'|sed p)"
   ]
  },
  {
   "cell_type": "code",
   "execution_count": 70,
   "metadata": {},
   "outputs": [
    {
     "name": "stdout",
     "output_type": "stream",
     "text": [
      "(standard_in) 1: syntax error\n",
      "(standard_in) 1: syntax error\n"
     ]
    }
   ],
   "source": [
    "d 2|tr x \\*|tee >(awk -F\\* '{split($0,a);asort(a,b);print b[1]\"+\"b[2]}'|sed p)|paste -sd+|bc"
   ]
  },
  {
   "cell_type": "markdown",
   "metadata": {},
   "source": [
    ":( something supposed to work in bash but does not? The problem is probably whitespace:"
   ]
  },
  {
   "cell_type": "code",
   "execution_count": 71,
   "metadata": {},
   "outputs": [
    {
     "name": "stdout",
     "output_type": "stream",
     "text": [
      "12+18+12+18+11+20+11+20+3+12+3+12+17+24+17+24+6+11+6+11++++\n"
     ]
    }
   ],
   "source": [
    "d 2|tr x \\*|tee >(awk -F\\* '{split($0,a);asort(a,b);print b[1]\"+\"b[2]}'|sed p)|paste -sd+|tail -c 60"
   ]
  },
  {
   "cell_type": "markdown",
   "metadata": {},
   "source": [
    "The last lines were probably empty lines, lets remove them:"
   ]
  },
  {
   "cell_type": "code",
   "execution_count": 72,
   "metadata": {},
   "outputs": [
    {
     "name": "stdout",
     "output_type": "stream",
     "text": [
      "12+18+12+18+11+20+11+20+3+12+3+12+17+24+17+24+6+11+6+11++++\n"
     ]
    }
   ],
   "source": [
    "d 2|tr x \\*|tee >(awk -F\\* '{split($0,a);asort(a,b);print b[1]\"+\"b[2]}'|sed p)|grep .|paste -sd+|tail -c 60"
   ]
  },
  {
   "cell_type": "markdown",
   "metadata": {},
   "source": [
    "Hmmm... the last lines were probably empty lines or lines with a single byte, lets remove them:"
   ]
  },
  {
   "cell_type": "code",
   "execution_count": 73,
   "metadata": {},
   "outputs": [
    {
     "name": "stdout",
     "output_type": "stream",
     "text": [
      "+26+12+18+12+18+11+20+11+20+3+12+3+12+17+24+17+24+6+11+6+11\n"
     ]
    }
   ],
   "source": [
    "d 2|tr x \\*|tee >(awk -F\\* '{split($0,a);asort(a,b);print b[1]\"+\"b[2]}'|sed p)|grep ..|paste -sd+|tail -c 60"
   ]
  },
  {
   "cell_type": "markdown",
   "metadata": {},
   "source": [
    "Success:"
   ]
  },
  {
   "cell_type": "code",
   "execution_count": 74,
   "metadata": {},
   "outputs": [
    {
     "name": "stdout",
     "output_type": "stream",
     "text": [
      "3783758\n"
     ]
    }
   ],
   "source": [
    "d 2|tr x \\*|tee >(awk -F\\* '{split($0,a);asort(a,b);print b[1]\"+\"b[2]}'|sed p)|grep ..|paste -sd+|bc"
   ]
  },
  {
   "cell_type": "markdown",
   "metadata": {},
   "source": [
    "## Day 10: Elves Look, Elves Say\n",
    "\n",
    "### part1\n",
    "\n",
    "> Today, the Elves are playing a game called look-and-say.\n",
    "> They take turns making sequences by reading aloud the previous sequence and using that reading as the next sequence.\n",
    "> For example, `211` is read as \"one two, two ones\", which becomes `1221` (1 2, 2 1s).\n",
    "> \n",
    "> Look-and-say sequences are generated iteratively, using the previous value as input for the next step.\n",
    "> For each step, take the previous value, and replace each run of digits (like `111`) with the number of digits (`3`) followed by the digit itself (`1`).\n",
    "> \n",
    "> For example:\n",
    "> \n",
    "> - `1 becomes `11` (`1` copy of digit `1`).\n",
    "> \n",
    "> - `11` becomes `21` (`2` copies of digit `1`).\n",
    "> \n",
    "> - `21` becomes `1211` (one `2` followed by one `1`).\n",
    "> \n",
    "> - `1211` becomes `111221` (one `1`, one `2`, and two `1`s).\n",
    "> \n",
    "> - `111221` becomes `312211` (three `1`s, two `2`s, and one `1`).\n",
    "> \n",
    "> Starting with the digits in your puzzle input, apply this process 40 times.\n",
    "> \n",
    "> **What is the length of the result?**\n"
   ]
  },
  {
   "cell_type": "code",
   "execution_count": 75,
   "metadata": {},
   "outputs": [
    {
     "name": "stdout",
     "output_type": "stream",
     "text": [
      "3113322113\n"
     ]
    }
   ],
   "source": [
    "d 10"
   ]
  },
  {
   "cell_type": "code",
   "execution_count": 76,
   "metadata": {},
   "outputs": [
    {
     "name": "stdout",
     "output_type": "stream",
     "text": [
      "3\n",
      "1\n",
      "1\n",
      "3\n",
      "3\n",
      "2\n",
      "2\n",
      "1\n",
      "1\n",
      "3\n"
     ]
    }
   ],
   "source": [
    "d 10 | fold -w1"
   ]
  },
  {
   "cell_type": "code",
   "execution_count": 77,
   "metadata": {},
   "outputs": [
    {
     "name": "stdout",
     "output_type": "stream",
     "text": [
      "      1 3\n",
      "      2 1\n",
      "      2 3\n",
      "      2 2\n",
      "      2 1\n",
      "      1 3\n"
     ]
    }
   ],
   "source": [
    "d 10 | fold -w1 | uniq -c "
   ]
  },
  {
   "cell_type": "code",
   "execution_count": 78,
   "metadata": {},
   "outputs": [
    {
     "name": "stdout",
     "output_type": "stream",
     "text": [
      "132123222113"
     ]
    }
   ],
   "source": [
    "d 10 | fold -w1 | uniq -c | tr -dc 0-9 "
   ]
  },
  {
   "cell_type": "code",
   "execution_count": 79,
   "metadata": {},
   "outputs": [
    {
     "name": "stdout",
     "output_type": "stream",
     "text": [
      "fold -w1 | uniq -c | tr -cd 0-9 | tee >(cat)\n",
      "fold -w1 | uniq -c | tr -cd 0-9 | tee >(cat)\n",
      "fold -w1 | uniq -c | tr -cd 0-9 | tee >(cat)\n",
      "fold -w1 | uniq -c | tr -cd 0-9 | tee >(cat)\n",
      "fold -w1 | uniq -c | tr -cd 0-9 | tee >(cat)\n",
      "fold -w1 | uniq -c | tr -cd 0-9 | tee >(cat)\n",
      "fold -w1 | uniq -c | tr -cd 0-9 | tee >(cat)\n",
      "fold -w1 | uniq -c | tr -cd 0-9 | tee >(cat)\n",
      "fold -w1 | uniq -c | tr -cd 0-9 | tee >(cat)\n",
      "fold -w1 | uniq -c | tr -cd 0-9 | tee >(cat)\n",
      "fold -w1 | uniq -c | tr -cd 0-9 | tee >(cat)\n",
      "fold -w1 | uniq -c | tr -cd 0-9 | tee >(cat)\n",
      "fold -w1 | uniq -c | tr -cd 0-9 | tee >(cat)\n",
      "fold -w1 | uniq -c | tr -cd 0-9 | tee >(cat)\n",
      "fold -w1 | uniq -c | tr -cd 0-9 | tee >(cat)\n",
      "fold -w1 | uniq -c | tr -cd 0-9 | tee >(cat)\n",
      "fold -w1 | uniq -c | tr -cd 0-9 | tee >(cat)\n",
      "fold -w1 | uniq -c | tr -cd 0-9 | tee >(cat)\n",
      "fold -w1 | uniq -c | tr -cd 0-9 | tee >(cat)\n",
      "fold -w1 | uniq -c | tr -cd 0-9 | tee >(cat)\n",
      "fold -w1 | uniq -c | tr -cd 0-9 | tee >(cat)\n",
      "fold -w1 | uniq -c | tr -cd 0-9 | tee >(cat)\n",
      "fold -w1 | uniq -c | tr -cd 0-9 | tee >(cat)\n",
      "fold -w1 | uniq -c | tr -cd 0-9 | tee >(cat)\n",
      "fold -w1 | uniq -c | tr -cd 0-9 | tee >(cat)\n",
      "fold -w1 | uniq -c | tr -cd 0-9 | tee >(cat)\n",
      "fold -w1 | uniq -c | tr -cd 0-9 | tee >(cat)\n",
      "fold -w1 | uniq -c | tr -cd 0-9 | tee >(cat)\n",
      "fold -w1 | uniq -c | tr -cd 0-9 | tee >(cat)\n",
      "fold -w1 | uniq -c | tr -cd 0-9 | tee >(cat)\n",
      "fold -w1 | uniq -c | tr -cd 0-9 | tee >(cat)\n",
      "fold -w1 | uniq -c | tr -cd 0-9 | tee >(cat)\n",
      "fold -w1 | uniq -c | tr -cd 0-9 | tee >(cat)\n",
      "fold -w1 | uniq -c | tr -cd 0-9 | tee >(cat)\n",
      "fold -w1 | uniq -c | tr -cd 0-9 | tee >(cat)\n",
      "fold -w1 | uniq -c | tr -cd 0-9 | tee >(cat)\n",
      "fold -w1 | uniq -c | tr -cd 0-9 | tee >(cat)\n",
      "fold -w1 | uniq -c | tr -cd 0-9 | tee >(cat)\n",
      "fold -w1 | uniq -c | tr -cd 0-9 | tee >(cat)\n",
      "fold -w1 | uniq -c | tr -cd 0-9 | tee >(cat)\n"
     ]
    }
   ],
   "source": [
    "yes 'fold -w1 | uniq -c | tr -cd 0-9 | tee >(cat)' | head -n 40"
   ]
  },
  {
   "cell_type": "code",
   "execution_count": 80,
   "metadata": {},
   "outputs": [
    {
     "name": "stdout",
     "output_type": "stream",
     "text": [
      "329356\n"
     ]
    }
   ],
   "source": [
    "alias yes=\"yes 2>/dev/null\"\n",
    "eval \"echo 3113322113|$(yes 'fold -w1|uniq -c|tr -d \"\\n \"'|head -n40|paste -sd\\|)|wc -c\""
   ]
  },
  {
   "cell_type": "markdown",
   "metadata": {},
   "source": [
    "## Day 6: Probably  a Fire Hazard\n",
    "\n",
    "> Because your neighbors keep defeating you in the holiday house decorating contest year after year, you've decided to deploy one million lights in a 1000x1000 grid.\n",
    "> \n",
    "> Furthermore, because you've been especially nice this year, Santa has mailed you instructions on how to display the ideal lighting configuration.\n",
    "> \n",
    "> Lights in your grid are numbered from 0 to 999 in each direction; the lights at each corner are at `0,0`, `0,999`, `999,999`, and `999,0`.\n",
    "> The instructions include whether to `turn on`, `turn off`, or `toggle` various inclusive ranges given as coordinate pairs.\n",
    "> Each coordinate pair represents opposite corners of a rectangle, inclusive; a coordinate pair like `0,0 through 2,2` therefore refers to 9 lights in a 3x3 square.\n",
    "> The lights all start turned off.\n",
    "> \n",
    "> To defeat your neighbors this year, all you have to do is set up your lights by doing the instructions Santa sent you in order.\n",
    "> \n",
    "> For example:\n",
    "> \n",
    "> - `turn on 0,0 through 999,999` would turn on (or leave on) every light.\n",
    "> \n",
    "> - `toggle 0,0 through 999,0` would toggle the first line of 1000 lights, turning off the ones that were on, and turning on the ones that were off.\n",
    "> \n",
    "> - `turn off 499,499 through 500,500` would turn off (or leave off) the middle four lights.\n",
    "> \n",
    "> **After following the instructions, how many lights are lit?**"
   ]
  },
  {
   "cell_type": "code",
   "execution_count": 81,
   "metadata": {},
   "outputs": [
    {
     "name": "stdout",
     "output_type": "stream",
     "text": [
      "turn off 660,55 through 986,197\n",
      "turn off 341,304 through 638,850\n",
      "turn off 199,133 through 461,193\n",
      "toggle 322,558 through 977,958\n",
      "toggle 537,781 through 687,941\n",
      "turn on 226,196 through 599,390\n",
      "turn on 240,129 through 703,297\n",
      "turn on 317,329 through 451,798\n",
      "turn on 957,736 through 977,890\n",
      "turn on 263,530 through 559,664\n"
     ]
    }
   ],
   "source": [
    "h 6"
   ]
  },
  {
   "cell_type": "markdown",
   "metadata": {},
   "source": [
    "This format looks hard to parse, are the numbers even in the same columns?"
   ]
  },
  {
   "cell_type": "code",
   "execution_count": 82,
   "metadata": {},
   "outputs": [
    {
     "name": "stdout",
     "output_type": "stream",
     "text": [
      "turn    off      660,55   through  986,197\n",
      "turn    off      341,304  through  638,850\n",
      "turn    off      199,133  through  461,193\n",
      "toggle  322,558  through  977,958  \n",
      "toggle  537,781  through  687,941  \n",
      "turn    on       226,196  through  599,390\n",
      "turn    on       240,129  through  703,297\n",
      "turn    on       317,329  through  451,798\n",
      "turn    on       957,736  through  977,890\n",
      "turn    on       263,530  through  559,664\n"
     ]
    }
   ],
   "source": [
    "h 6 | column -t"
   ]
  },
  {
   "cell_type": "markdown",
   "metadata": {},
   "source": [
    "Nope. Can it be fixed? Sure, just replace the chars `l` and `,` with spaces:"
   ]
  },
  {
   "cell_type": "code",
   "execution_count": 83,
   "metadata": {},
   "outputs": [
    {
     "name": "stdout",
     "output_type": "stream",
     "text": [
      "turn  off  660  55   through  986  197\n",
      "turn  off  341  304  through  638  850\n",
      "turn  off  199  133  through  461  193\n",
      "togg  e    322  558  through  977  958\n",
      "togg  e    537  781  through  687  941\n",
      "turn  on   226  196  through  599  390\n",
      "turn  on   240  129  through  703  297\n",
      "turn  on   317  329  through  451  798\n",
      "turn  on   957  736  through  977  890\n",
      "turn  on   263  530  through  559  664\n"
     ]
    }
   ],
   "source": [
    "h 6 | tr l, ' '  | column -t"
   ]
  },
  {
   "cell_type": "markdown",
   "metadata": {},
   "source": [
    "Ok, so lets create a small, toy example to test our ideas.\n",
    "\n",
    "    turn on 0,0 through 3,3\n",
    "\n",
    "     012345\n",
    "    0XXXX..\n",
    "    1XXXX..\n",
    "    2XXXX..\n",
    "    3XXXX..\n",
    "\n",
    "    toggle 2,1 through 5,3\n",
    "\n",
    "     012345\n",
    "    0XXXX..\n",
    "    1XX..XX\n",
    "    2XX..XX\n",
    "    3XX..XX\n",
    "\n",
    "    turn off 0,0 through 0,3\n",
    "\n",
    "     012345\n",
    "    0.XXX..\n",
    "    1.X..XX  \n",
    "    2.X..XX\n",
    "    3.X..XX\n",
    "    \n",
    "    turn on 100,10 throuth 100,10\n",
    "    \n",
    "     012345\n",
    "    0.XXX..\n",
    "    1.X..XX  plus 100,10\n",
    "    2.X..XX\n",
    "    3.X..XX\n",
    "    \n",
    "    the result is 13"
   ]
  },
  {
   "cell_type": "code",
   "execution_count": 84,
   "metadata": {},
   "outputs": [],
   "source": [
    "test_input() {\n",
    "    echo turn off 0,0, through 2,5\n",
    "    echo turn on 0,0 through 3,3\n",
    "    echo toggle 2,1 through 5,3\n",
    "    echo turn off 0,0 through 0,3\n",
    "    echo turn on 100,10 through 100,10\n",
    "}"
   ]
  },
  {
   "cell_type": "markdown",
   "metadata": {},
   "source": [
    "The plan is:\n",
    "\n",
    "- find a way to generate all positions in a rectagle given by an \"x1,y1 through x2,y2\" definition\n",
    "- use set operations, namely `union`, `diff`, and `xor` to implement `off`, `on`, and `toggle`\n",
    "- turn every line of the input into one of the set operations and chain them together with pipes"
   ]
  },
  {
   "cell_type": "markdown",
   "metadata": {},
   "source": [
    "Generating all positions in a rectagle:"
   ]
  },
  {
   "cell_type": "code",
   "execution_count": 85,
   "metadata": {},
   "outputs": [
    {
     "name": "stdout",
     "output_type": "stream",
     "text": [
      "008x099\n",
      "008x100\n",
      "009x099\n",
      "009x100\n",
      "010x099\n",
      "010x100\n",
      "011x099\n",
      "011x100\n"
     ]
    }
   ],
   "source": [
    "echo {008..11}x{099..100} | tr ' ' '\\n'"
   ]
  },
  {
   "cell_type": "markdown",
   "metadata": {},
   "source": [
    "Set operations:"
   ]
  },
  {
   "cell_type": "code",
   "execution_count": 86,
   "metadata": {},
   "outputs": [
    {
     "name": "stdout",
     "output_type": "stream",
     "text": [
      "test: set_union <(seq 1 5) <(seq 3 8)   \n",
      "  exp 1 2 3 4 5 6 7 8\n",
      "  got 1 2 3 4 5 6 7 8\n",
      "  pass\n",
      "test: seq 1 5 | set_union - <(seq 3 8)  \n",
      "  exp 1 2 3 4 5 6 7 8\n",
      "  got 1 2 3 4 5 6 7 8\n",
      "  pass\n",
      "test: set_diff <(seq 1 5) <(seq 3 8)    \n",
      "  exp 1 2\n",
      "  got 1 2\n",
      "  pass\n",
      "test: seq 1 5 | set_diff - <(seq 3 8)   \n",
      "  exp 1 2\n",
      "  got 1 2\n",
      "  pass\n",
      "test: set_xor <(seq 1 5) <(seq 3 8)     \n",
      "  exp 1 2 6 7 8\n",
      "  got 1 2 6 7 8\n",
      "  pass\n",
      "test: seq 1 5 | set_xor - <(seq 3 8)    \n",
      "  exp 1 2 6 7 8\n",
      "  got 1 2 6 7 8\n",
      "  pass\n"
     ]
    }
   ],
   "source": [
    "# this is a must have when `sort` is used\n",
    "export LC_ALL=C\n",
    "\n",
    "# see the respective man page of `comm`\n",
    "to_set() { tr -s ' \\t\\n' '\\n' | sort -u; }\n",
    "set_union() { cat \"$1\" \"$2\" | to_set; }\n",
    "set_diff() { comm -23 \"$1\" \"$2\" | to_set; }\n",
    "set_xor() { comm -3 \"$1\" \"$2\" | to_set; }\n",
    "\n",
    "# some tests\n",
    "i=1\n",
    "while IFS=@ read -r inp out\n",
    "do\n",
    "    res=\"$(eval \"$inp\" | paste -sd ' ')\"\n",
    "    echo \"test: $inp\"\n",
    "    echo \"  exp $out\"\n",
    "    echo \"  got $res\"\n",
    "    if test \"$res\" == \"$out\"\n",
    "    then echo \"  pass\"\n",
    "    else echo \"  fail\"\n",
    "    fi  \n",
    "done <<\\EOF\n",
    "set_union <(seq 1 5) <(seq 3 8)   @1 2 3 4 5 6 7 8\n",
    "seq 1 5 | set_union - <(seq 3 8)  @1 2 3 4 5 6 7 8\n",
    "set_diff <(seq 1 5) <(seq 3 8)    @1 2\n",
    "seq 1 5 | set_diff - <(seq 3 8)   @1 2\n",
    "set_xor <(seq 1 5) <(seq 3 8)     @1 2 6 7 8\n",
    "seq 1 5 | set_xor - <(seq 3 8)    @1 2 6 7 8\n",
    "EOF"
   ]
  },
  {
   "cell_type": "markdown",
   "metadata": {},
   "source": [
    "Use awk to generate the chain. Note that \n",
    "\n",
    "- the empty set is simply /dev/null\n",
    "- brace expansion requires leading zeros otherwise sorting gets messed up\n",
    "- bash could use more string literals for nesting"
   ]
  },
  {
   "cell_type": "code",
   "execution_count": 87,
   "metadata": {},
   "outputs": [
    {
     "name": "stdout",
     "output_type": "stream",
     "text": [
      "cat /dev/null\n",
      "set_diff  - <(echo {0000..0002}x{0000..0005} | tr \" \" \\\\n)\n",
      "set_union - <(echo {0000..0003}x{0000..0003} | tr \" \" \\\\n)\n",
      "set_xor   - <(echo {0002..0005}x{0001..0003} | tr \" \" \\\\n)\n",
      "set_diff  - <(echo {0000..0000}x{0000..0003} | tr \" \" \\\\n)\n",
      "set_union - <(echo {0100..0100}x{0010..0010} | tr \" \" \\\\n)\n"
     ]
    }
   ],
   "source": [
    "test_input | tr l, ' ' | \n",
    "awk '\n",
    "    BEGIN       { print \"cat /dev/null\" }\n",
    "    $2 == \"off\" { printf \"set_diff  - <(echo {%04d..%04d}x{%04d..%04d} | tr \\\" \\\" \\\\\\\\n)\\n\", $3, $6, $4, $7}\n",
    "    $2 == \"on\"  { printf \"set_union - <(echo {%04d..%04d}x{%04d..%04d} | tr \\\" \\\" \\\\\\\\n)\\n\", $3, $6, $4, $7}\n",
    "    $2 == \"e\"   { printf \"set_xor   - <(echo {%04d..%04d}x{%04d..%04d} | tr \\\" \\\" \\\\\\\\n)\\n\", $3, $6, $4, $7}\n",
    "'"
   ]
  },
  {
   "cell_type": "markdown",
   "metadata": {},
   "source": [
    "Ok, now we have to eval it somehow. Note that bash can export functions, so that child bash processes can call them. I also inserted logging statements into the pipeline. To get the cardinality of the resulting set, I used `wc -w`."
   ]
  },
  {
   "cell_type": "code",
   "execution_count": 88,
   "metadata": {},
   "outputs": [
    {
     "name": "stdout",
     "output_type": "stream",
     "text": [
      "13\n"
     ]
    }
   ],
   "source": [
    "export -f to_set set_union set_diff set_xor\n",
    "test_input | tr l, ' ' |\n",
    "awk '\n",
    "    BEGIN       { print \"cat /dev/null\" }\n",
    "    $2 == \"off\" { printf \"set_diff  - <(echo {%04d..%04d}x{%04d..%04d} | tr \\\" \\\" \\\\\\\\n)\\n\", $3, $6, $4, $7}\n",
    "    $2 == \"on\"  { printf \"set_union - <(echo {%04d..%04d}x{%04d..%04d} | tr \\\" \\\" \\\\\\\\n)\\n\", $3, $6, $4, $7}\n",
    "    $2 == \"e\"   { printf \"set_xor   - <(echo {%04d..%04d}x{%04d..%04d} | tr \\\" \\\" \\\\\\\\n)\\n\", $3, $6, $4, $7}\n",
    "    { printf \"tee /tmp/out.%d.log\\n\", i++ }\n",
    "' |\n",
    "paste -sd '|' | \n",
    "xargs -0 bash -o pipefail -o errexit -c 'eval \"$0\"' |\n",
    "wc -w"
   ]
  },
  {
   "cell_type": "markdown",
   "metadata": {},
   "source": [
    "Yay! It worked!\n",
    "\n",
    "Lets try with the real input. The solution should be 400410."
   ]
  },
  {
   "cell_type": "code",
   "execution_count": 89,
   "metadata": {},
   "outputs": [
    {
     "name": "stdout",
     "output_type": "stream",
     "text": [
      "400410\n"
     ]
    }
   ],
   "source": [
    "if free -g | awk '/Mem:/ {exit $7 < 5}'\n",
    "then\n",
    "    export -f to_set set_union set_diff set_xor\n",
    "    d 6 | tr l, ' ' |\n",
    "    awk '\n",
    "        BEGIN       { print \"cat /dev/null\" }\n",
    "        $2 == \"off\" { printf \"set_diff  - <(echo {%04d..%04d}x{%04d..%04d} | tr \\\" \\\" \\\\\\\\n)\\n\", $3, $6, $4, $7}\n",
    "        $2 == \"on\"  { printf \"set_union - <(echo {%04d..%04d}x{%04d..%04d} | tr \\\" \\\" \\\\\\\\n)\\n\", $3, $6, $4, $7}\n",
    "        $2 == \"e\"   { printf \"set_xor   - <(echo {%04d..%04d}x{%04d..%04d} | tr \\\" \\\" \\\\\\\\n)\\n\", $3, $6, $4, $7}\n",
    "        { printf \"tee /tmp/out.%d.log\\n\", i++ }\n",
    "    ' |\n",
    "    paste -sd '|' | \n",
    "    xargs -0 bash -o pipefail -o errexit -c 'eval \"$0\"' |\n",
    "    wc -w\n",
    "else\n",
    "    echo >&2 \"Buy more RAM! Forking that so many processes will fail otherwise.\"\n",
    "fi"
   ]
  },
  {
   "cell_type": "markdown",
   "metadata": {},
   "source": [
    "Yey, it works too!\n",
    "\n",
    "Is it a single line though? Of course, here it is golfed into one line:"
   ]
  },
  {
   "cell_type": "code",
   "execution_count": 90,
   "metadata": {},
   "outputs": [
    {
     "name": "stdout",
     "output_type": "stream",
     "text": [
      "400410\n"
     ]
    }
   ],
   "source": [
    "if free -g | awk '/Mem:/ {exit $7 < 5}'\n",
    "then\n",
    "    d 6|tr l, \\ |awk 'BEGIN{print \":\"}/of/{printf\"comm -23\"}/on/{printf\"cat\"}/to/{printf\"comm -3\"}{printf \" - <(echo {%04d..%d}x{%04d..%d}|tr \\\" \\\" \\\\\\\\n)|tr -s \\\"[:space:]\\\" \\\\\\\\n|sort -u\\n\",$3,$6,$4,$7}'|paste -sd \\||xargs -0 bash -c 'eval \"$0\"'|wc -w\n",
    "else\n",
    "    echo >&2 \"Buy more RAM! Forking that so many processes will fail otherwise.\"\n",
    "fi"
   ]
  },
  {
   "cell_type": "markdown",
   "metadata": {},
   "source": [
    "## Day 7: Some Assembly Required\n",
    "\n",
    "### part1\n",
    "\n",
    "> This year, Santa brought little Bobby Tables a set of wires and bitwise logic gates!\n",
    "> Unfortunately, little Bobby is a little under the recommended age range, and he needs help assembling the circuit.\n",
    "> \n",
    "> Each wire has an identifier (some lowercase letters) and can carry a 16-bit signal (a number from `0` to `65535`).\n",
    "> A signal is provided to each wire by a gate, another wire, or some specific value.\n",
    "> Each wire can only get a signal from one source, but can provide its signal to multiple destinations.\n",
    "> A gate provides no signal until all of its inputs have a signal.\n",
    "> \n",
    "> The included instructions booklet describes how to connect the parts together: `x AND y -> z` means to connect wires `x` and `y` to an `AND` gate, and then connect its output to wire `z`.\n",
    "> \n",
    "> For example:\n",
    "> \n",
    "> - `123 -> x` means that the signal `123` is provided to wire `x`.\n",
    "> \n",
    "> - `x AND y -> z` means that the bitwise `AND` of wire `x` and wire `y` is provided to wire `z`.\n",
    "> \n",
    "> - `p LSHIFT 2 -> q` means that the value from wire `p` is left-shifted by 2 and then provided to wire `q`.\n",
    "> \n",
    "> - `NOT e -> f` means that the bitwise complement of the value from wire `e` is provided to wire `f`.\n",
    "> \n",
    "> Other possible gates include `OR` (bitwise OR) and `RSHIFT` (right-shift).\n",
    "> If, for some reason, you'd like to emulate the circuit instead, almost all programming languages (for example, C, JavaScript, or Python) provide operators for these gates.\n",
    "> \n",
    "> For example, here is a simple circuit:\n",
    "> \n",
    "> ```\n",
    "> 123 -> x\n",
    "> 456 -> y\n",
    "> x AND y -> d\n",
    "> x OR y -> e\n",
    "> x LSHIFT 2 -> f\n",
    "> y RSHIFT 2 -> g\n",
    "> NOT x -> h\n",
    "> NOT y -> i\n",
    "> ```\n",
    "> \n",
    "> After it is run, these are the signals on the wires:\n",
    "> \n",
    "> ```\n",
    "> d: 72\n",
    "> e: 507\n",
    "> f: 492\n",
    "> g: 114\n",
    "> h: 65412\n",
    "> i: 65079\n",
    "> x: 123\n",
    "> y: 456\n",
    "> ```\n",
    "> \n",
    "> In little Bobby's kit's instructions booklet (provided as your puzzle input), **what signal is ultimately provided to wire a?**\n"
   ]
  },
  {
   "cell_type": "code",
   "execution_count": 91,
   "metadata": {},
   "outputs": [
    {
     "name": "stdout",
     "output_type": "stream",
     "text": [
      "lf AND lq -> ls\n",
      "iu RSHIFT 1 -> jn\n",
      "bo OR bu -> bv\n",
      "gj RSHIFT 1 -> hc\n",
      "et RSHIFT 2 -> eu\n",
      "bv AND bx -> by\n",
      "is OR it -> iu\n",
      "b OR n -> o\n",
      "gf OR ge -> gg\n",
      "NOT kt -> ku\n"
     ]
    }
   ],
   "source": [
    "h 7"
   ]
  },
  {
   "cell_type": "code",
   "execution_count": 92,
   "metadata": {},
   "outputs": [
    {
     "name": "stdout",
     "output_type": "stream",
     "text": [
      " ls=lf AND lq \n",
      " jn=iu RSHIFT 1 \n",
      " bv=bo OR bu \n",
      " hc=gj RSHIFT 1 \n",
      " eu=et RSHIFT 2 \n",
      " by=bv AND bx \n",
      " iu=is OR it \n",
      " o=b OR n \n",
      " gg=gf OR ge \n",
      " ku=NOT kt \n"
     ]
    }
   ],
   "source": [
    "h 7 | \n",
    "awk -F-\\> '{print $2\"=\"$1}'"
   ]
  },
  {
   "cell_type": "code",
   "execution_count": 93,
   "metadata": {},
   "outputs": [
    {
     "name": "stdout",
     "output_type": "stream",
     "text": [
      "ls=lf&lq\n",
      "jn=iu>>1\n",
      "bv=bo|bu\n",
      "hc=gj>>1\n",
      "eu=et>>2\n",
      "by=bv&bx\n",
      "iu=is|it\n",
      "o=b|n\n",
      "gg=gf|ge\n",
      "ku=65535^kt\n"
     ]
    }
   ],
   "source": [
    "h 7 |\n",
    "awk -F-\\> '{print $2\"=\"$1}' |\n",
    "sed '\n",
    "    s/AND/\\&/;\n",
    "    s/OR/|/;\n",
    "    s/LSHIFT/<</;\n",
    "    s/RSHIFT/>>/;\n",
    "    s/NOT/65535^/;\n",
    "    s/ //g;\n",
    "'"
   ]
  },
  {
   "cell_type": "code",
   "execution_count": 94,
   "metadata": {},
   "outputs": [
    {
     "name": "stdout",
     "output_type": "stream",
     "text": [
      "ls=lf&lq\n",
      "jn=iu>>1\n",
      "bv=bo|bu\n",
      "hc=gj>>1\n",
      "eu=et>>2\n",
      "by=bv&bx\n",
      "iu=is|it\n",
      "o=b|n\n",
      "gg=gf|ge\n",
      "ku=65535^kt\n"
     ]
    }
   ],
   "source": [
    "# convert this to normal notation\n",
    "h 7 |\n",
    "awk -F-\\> '{print $2\"=\"$1}' |\n",
    "sed '\n",
    "    s/AND/\\&/;\n",
    "    s/OR/|/;\n",
    "    s/LSHIFT/<</;\n",
    "    s/RSHIFT/>>/;\n",
    "    s/NOT/65535^/;\n",
    "    s/ //g;\n",
    "'"
   ]
  },
  {
   "cell_type": "code",
   "execution_count": 95,
   "metadata": {},
   "outputs": [
    {
     "name": "stdout",
     "output_type": "stream",
     "text": [
      "ca=bn&by cb=65535^ca\n",
      "af=y|ae ai=af&ah\n",
      "ah=65535^ag ai=af&ah\n",
      "x=v|w aj=x|ai\n",
      "ai=af&ah aj=x|ai\n",
      "bz=bn|by cc=bz&cb\n",
      "cb=65535^ca cc=bz&cb\n",
      "x=v|w ak=x&ai\n",
      "ai=af&ah ak=x&ai\n",
      "cc=bz&cb cd=1&cc\n",
      "ak=x&ai al=65535^ak\n",
      "bk=bj|bi ce=bk<<1\n",
      "aj=x|ai am=aj&al\n",
      "al=65535^ak am=aj&al\n",
      "ce=bk<<1 cf=ce|cd\n",
      "cd=1&cc cf=ce|cd\n",
      "am=aj&al an=1&am\n",
      "bn=bl|bm cg=bn>>1\n",
      "u=t|s ao=u<<1\n",
      "dy=dw|dx ea=dy>>3\n",
      "cd=1&cc ch=cd<<15\n",
      "dy=dw|dx eb=dy>>5\n",
      "cg=bn>>1 ci=cg|ch\n",
      "ch=cd<<15 ci=cg|ch\n",
      "ao=u<<1 ap=ao|an\n",
      "an=1&am ap=ao|an\n",
      "ci=cg|ch cj=ci>>2\n",
      "ea=dy>>3 ec=ea|eb\n",
      "eb=dy>>5 ec=ea|eb\n",
      "x=v|w aq=x>>1\n",
      "an=1&am ar=an<<15\n",
      "ci=cg|ch ck=ci>>3\n",
      "ea=dy>>3 ed=ea&eb\n",
      "eb=dy>>5 ed=ea&eb\n",
      "ed=ea&eb ee=65535^ed\n",
      "ci=cg|ch cl=ci>>5\n",
      "aq=x>>1 as=aq|ar\n",
      "ar=an<<15 as=aq|ar\n",
      "as=aq|ar at=as>>2\n",
      "ck=ci>>3 cm=ck|cl\n",
      "cl=ci>>5 cm=ck|cl\n",
      "ec=ea|eb ef=ec&ee\n",
      "ee=65535^ed ef=ec&ee\n",
      "as=aq|ar au=as>>3\n",
      "ck=ci>>3 cn=ck&cl\n",
      "cl=ci>>5 cn=ck&cl\n",
      "dz=dy>>2 eg=dz|ef\n",
      "ef=ec&ee eg=dz|ef\n",
      "dz=dy>>2 eh=dz&ef\n",
      "ef=ec&ee eh=dz&ef\n",
      "fo=fm|fn ga=fo|fz\n",
      "fz=fw&fy ga=fo|fz\n",
      "as=aq|ar av=as>>5\n",
      "cn=ck&cl co=65535^cn\n",
      "fo=fm|fn gb=fo&fz\n",
      "fz=fw&fy gb=fo&fz\n",
      "au=as>>3 aw=au|av\n",
      "av=as>>5 aw=au|av\n",
      "eh=dz&ef ei=65535^eh\n",
      "cm=ck|cl cp=cm&co\n",
      "co=65535^cn cp=cm&co\n",
      "cj=ci>>2 cq=cj|cp\n",
      "cp=cm&co cq=cj|cp\n",
      "eg=dz|ef ej=eg&ei\n",
      "ei=65535^eh ej=eg&ei\n",
      "gb=fo&fz gc=65535^gb\n",
      "au=as>>3 ax=au&av\n",
      "av=as>>5 ax=au&av\n",
      "ga=fo|fz gd=ga&gc\n",
      "gc=65535^gb gd=ga&gc\n",
      "cj=ci>>2 cr=cj&cp\n",
      "cp=cm&co cr=cj&cp\n",
      "dy=dw|dx ek=dy|ej\n",
      "ej=eg&ei ek=dy|ej\n",
      "ax=au&av ay=65535^ax\n",
      "gd=ga&gc ge=1&gd\n",
      "cr=cj&cp cs=65535^cr\n",
      "aw=au|av az=aw&ay\n",
      "ay=65535^ax az=aw&ay\n",
      "dy=dw|dx el=dy&ej\n",
      "ej=eg&ei el=dy&ej\n",
      "cq=cj|cp ct=cq&cs\n",
      "cs=65535^cr ct=cq&cs\n",
      "fl=fk|fj gf=fl<<1\n",
      "el=dy&ej em=65535^el\n",
      "ci=cg|ch cu=ci|ct\n",
      "ct=cq&cs cu=ci|ct\n",
      "ek=dy|ej en=ek&em\n",
      "em=65535^el en=ek&em\n",
      "gf=fl<<1 gg=gf|ge\n",
      "ge=1&gd gg=gf|ge\n",
      "fo=fm|fn gh=fo>>1\n",
      "ci=cg|ch cv=ci&ct\n",
      "ct=cq&cs cv=ci&ct\n",
      "en=ek&em eo=1&en\n",
      "hz=hx|hy ia=hz>>2\n",
      "dv=du|dt ep=dv<<1\n",
      "cv=ci&ct cw=65535^cv\n",
      "ge=1&gd gi=ge<<15\n",
      "hz=hx|hy ib=hz>>3\n",
      "hz=hx|hy ic=hz>>5\n",
      "gh=fo>>1 gj=gh|gi\n",
      "gi=ge<<15 gj=gh|gi\n",
      "cu=ci|ct cx=cu&cw\n",
      "cw=65535^cv cx=cu&cw\n",
      "ep=dv<<1 eq=ep|eo\n",
      "eo=1&en eq=ep|eo\n",
      "ib=hz>>3 id=ib|ic\n",
      "ic=hz>>5 id=ib|ic\n",
      "cx=cu&cw cy=1&cx\n",
      "gj=gh|gi gk=gj>>2\n",
      "dy=dw|dx er=dy>>1\n",
      "ib=hz>>3 ie=ib&ic\n",
      "ic=hz>>5 ie=ib&ic\n",
      "gj=gh|gi gl=gj>>3\n",
      "cf=ce|cd cz=cf<<1\n",
      "eo=1&en es=eo<<15\n",
      "ie=ib&ic if=65535^ie\n",
      "er=dy>>1 et=er|es\n",
      "es=eo<<15 et=er|es\n",
      "gj=gh|gi gm=gj>>5\n",
      "id=ib|ic ig=id&if\n",
      "if=65535^ie ig=id&if\n",
      "gl=gj>>3 gn=gl|gm\n",
      "gm=gj>>5 gn=gl|gm\n",
      "et=er|es eu=et>>2\n",
      "ia=hz>>2 ih=ia|ig\n",
      "ig=id&if ih=ia|ig\n",
      "jx=jq|jw ka=jx&jz\n",
      "jz=65535^jy ka=jx&jz\n",
      "et=er|es ev=et>>3\n",
      "gl=gj>>3 go=gl&gm\n",
      "gm=gj>>5 go=gl&gm\n",
      "et=er|es ew=et>>5\n",
      "jp=jn|jo kb=jp|ka\n",
      "ka=jx&jz kb=jp|ka\n",
      "ia=hz>>2 ii=ia&ig\n",
      "ig=id&if ii=ia&ig\n",
      "go=gl&gm gp=65535^go\n",
      "jp=jn|jo kc=jp&ka\n",
      "ka=jx&jz kc=jp&ka\n",
      "ev=et>>3 ex=ev|ew\n",
      "ew=et>>5 ex=ev|ew\n",
      "ii=ia&ig ij=65535^ii\n",
      "gn=gl|gm gq=gn&gp\n",
      "gp=65535^go gq=gn&gp\n",
      "ih=ia|ig ik=ih&ij\n",
      "ij=65535^ii ik=ih&ij\n",
      "kc=jp&ka kd=65535^kc\n",
      "ev=et>>3 ey=ev&ew\n",
      "ew=et>>5 ey=ev&ew\n",
      "gk=gj>>2 gr=gk|gq\n",
      "gq=gn&gp gr=gk|gq\n",
      "hz=hx|hy il=hz|ik\n",
      "ik=ih&ij il=hz|ik\n",
      "gk=gj>>2 gs=gk&gq\n",
      "gq=gn&gp gs=gk&gq\n",
      "ey=ev&ew ez=65535^ey\n",
      "kb=jp|ka ke=kb&kd\n",
      "kd=65535^kc ke=kb&kd\n",
      "hz=hx|hy im=hz&ik\n",
      "ik=ih&ij im=hz&ik\n",
      "gs=gk&gq gt=65535^gs\n",
      "ke=kb&kd kf=1&ke\n",
      "im=hz&ik in=65535^im\n",
      "gr=gk|gq gu=gr&gt\n",
      "gt=65535^gs gu=gr&gt\n",
      "jm=jl|jk kg=jm<<1\n",
      "gj=gh|gi gv=gj|gu\n",
      "gu=gr&gt gv=gj|gu\n",
      "kg=jm<<1 kh=kg|kf\n",
      "kf=1&ke kh=kg|kf\n",
      "il=hz|ik io=il&in\n",
      "in=65535^im io=il&in\n",
      "ly=lf>>1 ma=ly|lz\n",
      "lz=lv<<15 ma=ly|lz\n",
      "gj=gh|gi gw=gj&gu\n",
      "gu=gr&gt gw=gj&gu\n",
      "jp=jn|jo ki=jp>>1\n",
      "io=il&in ip=1&io\n",
      "kf=1&ke kj=kf<<15\n",
      "hw=hv|hu iq=hw<<1\n",
      "gw=gj&gu gx=65535^gw\n",
      "iq=hw<<1 ir=iq|ip\n",
      "ip=1&io ir=iq|ip\n",
      "ki=jp>>1 kk=ki|kj\n",
      "kj=kf<<15 kk=ki|kj\n",
      "gv=gj|gu gy=gv&gx\n",
      "gx=65535^gw gy=gv&gx\n",
      "hz=hx|hy is=hz>>1\n",
      "gy=gv&gx gz=1&gy\n",
      "kk=ki|kj kl=kk>>2\n",
      "kk=ki|kj km=kk>>3\n",
      "ip=1&io it=ip<<15\n",
      "kk=ki|kj kn=kk>>5\n",
      "is=hz>>1 iu=is|it\n",
      "it=ip<<15 iu=is|it\n",
      "km=kk>>3 ko=km|kn\n",
      "kn=kk>>5 ko=km|kn\n",
      "iu=is|it iv=iu>>2\n",
      "km=kk>>3 kp=km&kn\n",
      "kn=kk>>5 kp=km&kn\n",
      "iu=is|it iw=iu>>3\n",
      "iu=is|it ix=iu>>5\n",
      "kp=km&kn kq=65535^kp\n",
      "iw=iu>>3 iy=iw|ix\n",
      "ix=iu>>5 iy=iw|ix\n",
      "ko=km|kn kr=ko&kq\n",
      "kq=65535^kp kr=ko&kq\n",
      "iw=iu>>3 iz=iw&ix\n",
      "ix=iu>>5 iz=iw&ix\n",
      "kl=kk>>2 ks=kl|kr\n",
      "kr=ko&kq ks=kl|kr\n",
      "kl=kk>>2 kt=kl&kr\n",
      "kr=ko&kq kt=kl&kr\n",
      "kt=kl&kr ku=65535^kt\n",
      "ks=kl|kr kv=ks&ku\n",
      "ku=65535^kt kv=ks&ku\n",
      "kk=ki|kj kw=kk|kv\n",
      "kv=ks&ku kw=kk|kv\n",
      "kk=ki|kj kx=kk&kv\n",
      "kv=ks&ku kx=kk&kv\n",
      "kx=kk&kv ky=65535^kx\n",
      "kw=kk|kv kz=kw&ky\n",
      "ky=65535^kx kz=kw&ky\n",
      "at=as>>2 ba=at|az\n",
      "az=aw&ay ba=at|az\n",
      "at=as>>2 bb=at&az\n",
      "az=aw&ay bb=at&az\n",
      "bb=at&az bc=65535^bb\n",
      "ba=at|az bd=ba&bc\n",
      "bc=65535^bb bd=ba&bc\n",
      "as=aq|ar be=as|bd\n",
      "bd=ba&bc be=as|bd\n",
      "as=aq|ar bf=as&bd\n",
      "bd=ba&bc bf=as&bd\n",
      "bf=as&bd bg=65535^bf\n",
      "be=as|bd bh=be&bg\n",
      "bg=65535^bf bh=be&bg\n",
      "cz=cf<<1 da=cz|cy\n",
      "cy=1&cx da=cz|cy\n",
      "bh=be&bg bi=1&bh\n",
      "ci=cg|ch db=ci>>1\n",
      "cy=1&cx dc=cy<<15\n",
      "ap=ao|an bj=ap<<1\n",
      "bj=ap<<1 bk=bj|bi\n",
      "bi=1&bh bk=bj|bi\n",
      "db=ci>>1 dd=db|dc\n",
      "dc=cy<<15 dd=db|dc\n",
      "as=aq|ar bl=as>>1\n",
      "dd=db|dc de=dd>>2\n",
      "bi=1&bh bm=bi<<15\n",
      "dd=db|dc df=dd>>3\n",
      "dd=db|dc dg=dd>>5\n",
      "bl=as>>1 bn=bl|bm\n",
      "bm=bi<<15 bn=bl|bm\n",
      "df=dd>>3 dh=df|dg\n",
      "dg=dd>>5 dh=df|dg\n",
      "ex=ev|ew fa=ex&ez\n",
      "ez=65535^ey fa=ex&ez\n",
      "bn=bl|bm bo=bn>>2\n",
      "bn=bl|bm bp=bn>>3\n",
      "df=dd>>3 di=df&dg\n",
      "dg=dd>>5 di=df&dg\n",
      "eu=et>>2 fb=eu|fa\n",
      "fa=ex&ez fb=eu|fa\n",
      "bn=bl|bm bq=bn>>5\n",
      "di=df&dg dj=65535^di\n",
      "eu=et>>2 fc=eu&fa\n",
      "fa=ex&ez fc=eu&fa\n",
      "dh=df|dg dk=dh&dj\n",
      "dj=65535^di dk=dh&dj\n",
      "bp=bn>>3 br=bp|bq\n",
      "bq=bn>>5 br=bp|bq\n",
      "fc=eu&fa fd=65535^fc\n",
      "bp=bn>>3 bs=bp&bq\n",
      "bq=bn>>5 bs=bp&bq\n",
      "fb=eu|fa fe=fb&fd\n",
      "fd=65535^fc fe=fb&fd\n",
      "de=dd>>2 dl=de|dk\n",
      "dk=dh&dj dl=de|dk\n",
      "de=dd>>2 dm=de&dk\n",
      "dk=dh&dj dm=de&dk\n",
      "bs=bp&bq bt=65535^bs\n",
      "et=er|es ff=et|fe\n",
      "fe=fb&fd ff=et|fe\n",
      "br=bp|bq bu=br&bt\n",
      "bt=65535^bs bu=br&bt\n",
      "dm=de&dk dn=65535^dm\n",
      "et=er|es fg=et&fe\n",
      "fe=fb&fd fg=et&fe\n",
      "gg=gf|ge ha=gg<<1\n",
      "dl=de|dk do=dl&dn\n",
      "dn=65535^dm do=dl&dn\n",
      "fg=et&fe fh=65535^fg\n",
      "bo=bn>>2 bv=bo|bu\n",
      "bu=br&bt bv=bo|bu\n",
      "dd=db|dc dp=dd|do\n",
      "do=dl&dn dp=dd|do\n",
      "ff=et|fe fi=ff&fh\n",
      "fh=65535^fg fi=ff&fh\n",
      "bo=bn>>2 bw=bo&bu\n",
      "bu=br&bt bw=bo&bu\n",
      "ha=gg<<1 hb=ha|gz\n",
      "gz=1&gy hb=ha|gz\n",
      "dd=db|dc dq=dd&do\n",
      "do=dl&dn dq=dd&do\n",
      "bw=bo&bu bx=65535^bw\n",
      "fi=ff&fh fj=1&fi\n",
      "gj=gh|gi hc=gj>>1\n",
      "eq=ep|eo fk=eq<<1\n",
      "dq=dd&do dr=65535^dq\n",
      "gz=1&gy hd=gz<<15\n",
      "bv=bo|bu by=bv&bx\n",
      "bx=65535^bw by=bv&bx\n",
      "dp=dd|do ds=dp&dr\n",
      "dr=65535^dq ds=dp&dr\n",
      "fk=eq<<1 fl=fk|fj\n",
      "fj=1&fi fl=fk|fj\n",
      "hc=gj>>1 he=hc|hd\n",
      "hd=gz<<15 he=hc|hd\n",
      "bn=bl|bm bz=bn|by\n",
      "by=bv&bx bz=bn|by\n",
      "he=hc|hd hf=he>>2\n",
      "ds=dp&dr dt=1&ds\n",
      "et=er|es fm=et>>1\n",
      "he=hc|hd hg=he>>3\n",
      "da=cz|cy du=da<<1\n",
      "fj=1&fi fn=fj<<15\n",
      "he=hc|hd hh=he>>5\n",
      "du=da<<1 dv=du|dt\n",
      "dt=1&ds dv=du|dt\n",
      "fm=et>>1 fo=fm|fn\n",
      "fn=fj<<15 fo=fm|fn\n",
      "iz=iw&ix ja=65535^iz\n",
      "dd=db|dc dw=dd>>1\n",
      "fo=fm|fn fp=fo>>2\n",
      "iy=iw|ix jb=iy&ja\n",
      "ja=65535^iz jb=iy&ja\n",
      "hg=he>>3 hi=hg|hh\n",
      "hh=he>>5 hi=hg|hh\n",
      "hg=he>>3 hj=hg&hh\n",
      "hh=he>>5 hj=hg&hh\n",
      "dt=1&ds dx=dt<<15\n",
      "fo=fm|fn fq=fo>>3\n",
      "iv=iu>>2 jc=iv|jb\n",
      "jb=iy&ja jc=iv|jb\n",
      "fo=fm|fn fr=fo>>5\n",
      "dw=dd>>1 dy=dw|dx\n",
      "dx=dt<<15 dy=dw|dx\n",
      "hj=hg&hh hk=65535^hj\n",
      "iv=iu>>2 jd=iv&jb\n",
      "jb=iy&ja jd=iv&jb\n",
      "fq=fo>>3 fs=fq|fr\n",
      "fr=fo>>5 fs=fq|fr\n",
      "jd=iv&jb je=65535^jd\n",
      "dy=dw|dx dz=dy>>2\n",
      "hi=hg|hh hl=hi&hk\n",
      "hk=65535^hj hl=hi&hk\n",
      "hf=he>>2 hm=hf|hl\n",
      "hl=hi&hk hm=hf|hl\n",
      "jc=iv|jb jf=jc&je\n",
      "je=65535^jd jf=jc&je\n",
      "fq=fo>>3 ft=fq&fr\n",
      "fr=fo>>5 ft=fq&fr\n",
      "hf=he>>2 hn=hf&hl\n",
      "hl=hi&hk hn=hf&hl\n",
      "iu=is|it jg=iu|jf\n",
      "jf=jc&je jg=iu|jf\n",
      "ft=fq&fr fu=65535^ft\n",
      "hn=hf&hl ho=65535^hn\n",
      "kz=kw&ky la=1&kz\n",
      "iu=is|it jh=iu&jf\n",
      "jf=jc&je jh=iu&jf\n",
      "fs=fq|fr fv=fs&fu\n",
      "fu=65535^ft fv=fs&fu\n",
      "jh=iu&jf ji=65535^jh\n",
      "fp=fo>>2 fw=fp|fv\n",
      "fv=fs&fu fw=fp|fv\n",
      "hm=hf|hl hp=hm&ho\n",
      "ho=65535^hn hp=hm&ho\n",
      "kh=kg|kf lb=kh<<1\n",
      "lb=kh<<1 lc=lb|la\n",
      "la=1&kz lc=lb|la\n",
      "he=hc|hd hq=he|hp\n",
      "hp=hm&ho hq=he|hp\n",
      "jg=iu|jf jj=jg&ji\n",
      "ji=65535^jh jj=jg&ji\n",
      "fp=fo>>2 fx=fp&fv\n",
      "fv=fs&fu fx=fp&fv\n",
      "kk=ki|kj ld=kk>>1\n",
      "he=hc|hd hr=he&hp\n",
      "hp=hm&ho hr=he&hp\n",
      "lx=lw|lv a=lx\n",
      "jj=jg&ji jk=1&jj\n",
      "fx=fp&fv fy=65535^fx\n",
      "la=1&kz le=la<<15\n",
      "fw=fp|fv fz=fw&fy\n",
      "fy=65535^fx fz=fw&fy\n",
      "ir=iq|ip jl=ir<<1\n",
      "hr=he&hp hs=65535^hr\n",
      "jl=ir<<1 jm=jl|jk\n",
      "jk=1&jj jm=jl|jk\n",
      "ld=kk>>1 lf=ld|le\n",
      "le=la<<15 lf=ld|le\n",
      "hq=he|hp ht=hq&hs\n",
      "hs=65535^hr ht=hq&hs\n",
      "b=19138 d=b>>2\n",
      "ht=hq&hs hu=1&ht\n",
      "iu=is|it jn=iu>>1\n",
      "lf=ld|le lg=lf>>2\n",
      "hb=ha|gz hv=hb<<1\n",
      "b=19138 e=b>>3\n",
      "lf=ld|le lh=lf>>3\n",
      "jk=1&jj jo=jk<<15\n",
      "b=19138 f=b>>5\n",
      "lf=ld|le li=lf>>5\n",
      "hv=hb<<1 hw=hv|hu\n",
      "hu=1&ht hw=hv|hu\n",
      "jn=iu>>1 jp=jn|jo\n",
      "jo=jk<<15 jp=jn|jo\n",
      "he=hc|hd hx=he>>1\n",
      "lh=lf>>3 lj=lh|li\n",
      "li=lf>>5 lj=lh|li\n",
      "e=b>>3 g=e|f\n",
      "f=b>>5 g=e|f\n",
      "jp=jn|jo jq=jp>>2\n",
      "e=b>>3 h=e&f\n",
      "f=b>>5 h=e&f\n",
      "hu=1&ht hy=hu<<15\n",
      "jp=jn|jo jr=jp>>3\n",
      "lh=lf>>3 lk=lh&li\n",
      "li=lf>>5 lk=lh&li\n",
      "h=e&f i=65535^h\n",
      "hx=he>>1 hz=hx|hy\n",
      "hy=hu<<15 hz=hx|hy\n",
      "lk=lh&li ll=65535^lk\n",
      "jp=jn|jo js=jp>>5\n",
      "jr=jp>>3 jt=jr|js\n",
      "js=jp>>5 jt=jr|js\n",
      "lj=lh|li lm=lj&ll\n",
      "ll=65535^lk lm=lj&ll\n",
      "g=e|f j=g&i\n",
      "i=65535^h j=g&i\n",
      "d=b>>2 k=d|j\n",
      "j=g&i k=d|j\n",
      "jr=jp>>3 ju=jr&js\n"
     ]
    },
    {
     "name": "stdout",
     "output_type": "stream",
     "text": [
      "js=jp>>5 ju=jr&js\n",
      "lg=lf>>2 ln=lg|lm\n",
      "lm=lj&ll ln=lg|lm\n",
      "d=b>>2 l=d&j\n",
      "j=g&i l=d&j\n",
      "ju=jr&js jv=65535^ju\n",
      "lg=lf>>2 lo=lg&lm\n",
      "lm=lj&ll lo=lg&lm\n",
      "l=d&j m=65535^l\n",
      "jt=jr|js jw=jt&jv\n",
      "jv=65535^ju jw=jt&jv\n",
      "lo=lg&lm lp=65535^lo\n",
      "jq=jp>>2 jx=jq|jw\n",
      "jw=jt&jv jx=jq|jw\n",
      "ln=lg|lm lq=ln&lp\n",
      "lp=65535^lo lq=ln&lp\n",
      "k=d|j n=k&m\n",
      "m=65535^l n=k&m\n",
      "jq=jp>>2 jy=jq&jw\n",
      "jw=jt&jv jy=jq&jw\n",
      "lf=ld|le lr=lf|lq\n",
      "lq=ln&lp lr=lf|lq\n",
      "b=19138 o=b|n\n",
      "n=k&m o=b|n\n",
      "jy=jq&jw jz=65535^jy\n",
      "b=19138 p=b&n\n",
      "n=k&m p=b&n\n",
      "lf=ld|le ls=lf&lq\n",
      "lq=ln&lp ls=lf&lq\n",
      "p=b&n q=65535^p\n",
      "ls=lf&lq lt=65535^ls\n",
      "o=b|n r=o&q\n",
      "q=65535^p r=o&q\n",
      "lr=lf|lq lu=lr&lt\n",
      "lt=65535^ls lu=lr&lt\n",
      "lu=lr&lt lv=1&lu\n",
      "r=o&q s=1&r\n",
      "lc=lb|la lw=lc<<1\n",
      "c=0 t=c<<1\n",
      "lw=lc<<1 lx=lw|lv\n",
      "lv=1&lu lx=lw|lv\n",
      "t=c<<1 u=t|s\n",
      "s=1&r u=t|s\n",
      "lf=ld|le ly=lf>>1\n",
      "b=19138 v=b>>1\n",
      "s=1&r w=s<<15\n",
      "x=v|w aa=x>>5\n",
      "lv=1&lu lz=lv<<15\n",
      "z=x>>3 ab=z|aa\n",
      "aa=x>>5 ab=z|aa\n",
      "v=b>>1 x=v|w\n",
      "w=s<<15 x=v|w\n",
      "z=x>>3 ac=z&aa\n",
      "aa=x>>5 ac=z&aa\n",
      "x=v|w y=x>>2\n",
      "x=v|w z=x>>3\n",
      "ac=z&aa ad=65535^ac\n",
      "ab=z|aa ae=ab&ad\n",
      "ad=65535^ac ae=ab&ad\n",
      "y=x>>2 af=y|ae\n",
      "ae=ab&ad af=y|ae\n",
      "y=x>>2 ag=y&ae\n",
      "ae=ab&ad ag=y&ae\n",
      "ag=y&ae ah=65535^ag\n",
      "bn=bl|bm ca=bn&by\n",
      "by=bv&bx ca=bn&by\n"
     ]
    }
   ],
   "source": [
    "# reorder dependency graph into strage format\n",
    "d 7 |\n",
    "awk -F-\\> '{print $2\"=\"$1}' |\n",
    "sed '\n",
    "    s/AND/\\&/;\n",
    "    s/OR/|/;\n",
    "    s/LSHIFT/<</;\n",
    "    s/RSHIFT/>>/;\n",
    "    s/NOT/65535^/;\n",
    "    s/ //g;\n",
    "' |\n",
    "awk -F'[^a-z0-9]' '\n",
    "    {E[$1]=$0}\n",
    "    END{for(i in E) {\n",
    "        split(E[i],A);\n",
    "        if(E[A[2]]) print E[A[2]], E[i];\n",
    "        if(E[A[3]]) print E[A[3]], E[i];\n",
    "    }}\n",
    "'"
   ]
  },
  {
   "cell_type": "code",
   "execution_count": 96,
   "metadata": {},
   "outputs": [
    {
     "name": "stdout",
     "output_type": "stream",
     "text": [
      "b=19138\n",
      "c=0\n",
      "v=b>>1\n",
      "f=b>>5\n",
      "e=b>>3\n",
      "d=b>>2\n",
      "t=c<<1\n",
      "h=e&f\n",
      "g=e|f\n",
      "i=65535^h\n",
      "j=g&i\n",
      "l=d&j\n",
      "k=d|j\n",
      "m=65535^l\n",
      "n=k&m\n",
      "p=b&n\n",
      "o=b|n\n",
      "q=65535^p\n",
      "r=o&q\n",
      "s=1&r\n",
      "w=s<<15\n",
      "u=t|s\n",
      "x=v|w\n",
      "ao=u<<1\n",
      "z=x>>3\n",
      "y=x>>2\n",
      "aa=x>>5\n",
      "aq=x>>1\n",
      "ac=z&aa\n",
      "ab=z|aa\n",
      "ad=65535^ac\n",
      "ae=ab&ad\n",
      "ag=y&ae\n",
      "af=y|ae\n",
      "ah=65535^ag\n",
      "ai=af&ah\n",
      "ak=x&ai\n",
      "aj=x|ai\n",
      "al=65535^ak\n",
      "am=aj&al\n",
      "an=1&am\n",
      "ar=an<<15\n",
      "ap=ao|an\n",
      "as=aq|ar\n",
      "bj=ap<<1\n",
      "bl=as>>1\n",
      "av=as>>5\n",
      "au=as>>3\n",
      "at=as>>2\n",
      "ax=au&av\n",
      "aw=au|av\n",
      "ay=65535^ax\n",
      "az=aw&ay\n",
      "bb=at&az\n",
      "ba=at|az\n",
      "bc=65535^bb\n",
      "bd=ba&bc\n",
      "bf=as&bd\n",
      "be=as|bd\n",
      "bg=65535^bf\n",
      "bh=be&bg\n",
      "bi=1&bh\n",
      "bm=bi<<15\n",
      "bk=bj|bi\n",
      "bn=bl|bm\n",
      "ce=bk<<1\n",
      "bq=bn>>5\n",
      "bp=bn>>3\n",
      "bo=bn>>2\n",
      "cg=bn>>1\n",
      "bs=bp&bq\n",
      "br=bp|bq\n",
      "bt=65535^bs\n",
      "bu=br&bt\n",
      "bw=bo&bu\n",
      "bv=bo|bu\n",
      "bx=65535^bw\n",
      "by=bv&bx\n",
      "ca=bn&by\n",
      "bz=bn|by\n",
      "cb=65535^ca\n",
      "cc=bz&cb\n",
      "cd=1&cc\n",
      "ch=cd<<15\n",
      "cf=ce|cd\n",
      "ci=cg|ch\n",
      "cz=cf<<1\n",
      "db=ci>>1\n",
      "cl=ci>>5\n",
      "ck=ci>>3\n",
      "cj=ci>>2\n",
      "cn=ck&cl\n",
      "cm=ck|cl\n",
      "co=65535^cn\n",
      "cp=cm&co\n",
      "cr=cj&cp\n",
      "cq=cj|cp\n",
      "cs=65535^cr\n",
      "ct=cq&cs\n",
      "cv=ci&ct\n",
      "cu=ci|ct\n",
      "cw=65535^cv\n",
      "cx=cu&cw\n",
      "cy=1&cx\n",
      "dc=cy<<15\n",
      "da=cz|cy\n",
      "dd=db|dc\n",
      "du=da<<1\n",
      "dw=dd>>1\n",
      "dg=dd>>5\n",
      "df=dd>>3\n",
      "de=dd>>2\n",
      "di=df&dg\n",
      "dh=df|dg\n",
      "dj=65535^di\n",
      "dk=dh&dj\n",
      "dm=de&dk\n",
      "dl=de|dk\n",
      "dn=65535^dm\n",
      "do=dl&dn\n",
      "dq=dd&do\n",
      "dp=dd|do\n",
      "dr=65535^dq\n",
      "ds=dp&dr\n",
      "dt=1&ds\n",
      "dx=dt<<15\n",
      "dv=du|dt\n",
      "dy=dw|dx\n",
      "ep=dv<<1\n",
      "dz=dy>>2\n",
      "er=dy>>1\n",
      "eb=dy>>5\n",
      "ea=dy>>3\n",
      "ed=ea&eb\n",
      "ec=ea|eb\n",
      "ee=65535^ed\n",
      "ef=ec&ee\n",
      "eh=dz&ef\n",
      "eg=dz|ef\n",
      "ei=65535^eh\n",
      "ej=eg&ei\n",
      "el=dy&ej\n",
      "ek=dy|ej\n",
      "em=65535^el\n",
      "en=ek&em\n",
      "eo=1&en\n",
      "es=eo<<15\n",
      "eq=ep|eo\n",
      "et=er|es\n",
      "fk=eq<<1\n",
      "fm=et>>1\n",
      "ew=et>>5\n",
      "ev=et>>3\n",
      "eu=et>>2\n",
      "ey=ev&ew\n",
      "ex=ev|ew\n",
      "ez=65535^ey\n",
      "fa=ex&ez\n",
      "fc=eu&fa\n",
      "fb=eu|fa\n",
      "fd=65535^fc\n",
      "fe=fb&fd\n",
      "fg=et&fe\n",
      "ff=et|fe\n",
      "fh=65535^fg\n",
      "fi=ff&fh\n",
      "fj=1&fi\n",
      "fn=fj<<15\n",
      "fl=fk|fj\n",
      "fo=fm|fn\n",
      "gf=fl<<1\n",
      "fr=fo>>5\n",
      "fq=fo>>3\n",
      "fp=fo>>2\n",
      "gh=fo>>1\n",
      "ft=fq&fr\n",
      "fs=fq|fr\n",
      "fu=65535^ft\n",
      "fv=fs&fu\n",
      "fx=fp&fv\n",
      "fw=fp|fv\n",
      "fy=65535^fx\n",
      "fz=fw&fy\n",
      "gb=fo&fz\n",
      "ga=fo|fz\n",
      "gc=65535^gb\n",
      "gd=ga&gc\n",
      "ge=1&gd\n",
      "gi=ge<<15\n",
      "gg=gf|ge\n",
      "gj=gh|gi\n",
      "ha=gg<<1\n",
      "hc=gj>>1\n",
      "gm=gj>>5\n",
      "gl=gj>>3\n",
      "gk=gj>>2\n",
      "go=gl&gm\n",
      "gn=gl|gm\n",
      "gp=65535^go\n",
      "gq=gn&gp\n",
      "gs=gk&gq\n",
      "gr=gk|gq\n",
      "gt=65535^gs\n",
      "gu=gr&gt\n",
      "gw=gj&gu\n",
      "gv=gj|gu\n",
      "gx=65535^gw\n",
      "gy=gv&gx\n",
      "gz=1&gy\n",
      "hd=gz<<15\n",
      "hb=ha|gz\n",
      "he=hc|hd\n",
      "hv=hb<<1\n",
      "hx=he>>1\n",
      "hh=he>>5\n",
      "hg=he>>3\n",
      "hf=he>>2\n",
      "hj=hg&hh\n",
      "hi=hg|hh\n",
      "hk=65535^hj\n",
      "hl=hi&hk\n",
      "hn=hf&hl\n",
      "hm=hf|hl\n",
      "ho=65535^hn\n",
      "hp=hm&ho\n",
      "hr=he&hp\n",
      "hq=he|hp\n",
      "hs=65535^hr\n",
      "ht=hq&hs\n",
      "hu=1&ht\n",
      "hy=hu<<15\n",
      "hw=hv|hu\n",
      "hz=hx|hy\n",
      "iq=hw<<1\n",
      "is=hz>>1\n",
      "ic=hz>>5\n",
      "ib=hz>>3\n",
      "ia=hz>>2\n",
      "ie=ib&ic\n",
      "id=ib|ic\n",
      "if=65535^ie\n",
      "ig=id&if\n",
      "ii=ia&ig\n",
      "ih=ia|ig\n",
      "ij=65535^ii\n",
      "ik=ih&ij\n",
      "im=hz&ik\n",
      "il=hz|ik\n",
      "in=65535^im\n",
      "io=il&in\n",
      "ip=1&io\n",
      "it=ip<<15\n",
      "ir=iq|ip\n",
      "iu=is|it\n",
      "jl=ir<<1\n",
      "jn=iu>>1\n",
      "ix=iu>>5\n",
      "iw=iu>>3\n",
      "iv=iu>>2\n",
      "iz=iw&ix\n",
      "iy=iw|ix\n",
      "ja=65535^iz\n",
      "jb=iy&ja\n",
      "jd=iv&jb\n",
      "jc=iv|jb\n",
      "je=65535^jd\n",
      "jf=jc&je\n",
      "jh=iu&jf\n",
      "jg=iu|jf\n",
      "ji=65535^jh\n",
      "jj=jg&ji\n",
      "jk=1&jj\n",
      "jo=jk<<15\n",
      "jm=jl|jk\n",
      "jp=jn|jo\n",
      "kg=jm<<1\n",
      "js=jp>>5\n",
      "jr=jp>>3\n",
      "jq=jp>>2\n",
      "ki=jp>>1\n",
      "ju=jr&js\n",
      "jt=jr|js\n",
      "jv=65535^ju\n",
      "jw=jt&jv\n",
      "jy=jq&jw\n",
      "jx=jq|jw\n",
      "jz=65535^jy\n",
      "ka=jx&jz\n",
      "kc=jp&ka\n",
      "kb=jp|ka\n",
      "kd=65535^kc\n",
      "ke=kb&kd\n",
      "kf=1&ke\n",
      "kj=kf<<15\n",
      "kh=kg|kf\n",
      "kk=ki|kj\n",
      "lb=kh<<1\n",
      "ld=kk>>1\n",
      "kn=kk>>5\n",
      "km=kk>>3\n",
      "kl=kk>>2\n",
      "kp=km&kn\n",
      "ko=km|kn\n",
      "kq=65535^kp\n",
      "kr=ko&kq\n",
      "kt=kl&kr\n",
      "ks=kl|kr\n",
      "ku=65535^kt\n",
      "kv=ks&ku\n",
      "kx=kk&kv\n",
      "kw=kk|kv\n",
      "ky=65535^kx\n",
      "kz=kw&ky\n",
      "la=1&kz\n",
      "le=la<<15\n",
      "lc=lb|la\n",
      "lf=ld|le\n",
      "lw=lc<<1\n",
      "ly=lf>>1\n",
      "li=lf>>5\n",
      "lh=lf>>3\n",
      "lg=lf>>2\n",
      "lk=lh&li\n",
      "lj=lh|li\n",
      "ll=65535^lk\n",
      "lm=lj&ll\n",
      "lo=lg&lm\n",
      "ln=lg|lm\n",
      "lp=65535^lo\n",
      "lq=ln&lp\n",
      "ls=lf&lq\n",
      "lr=lf|lq\n",
      "lt=65535^ls\n",
      "lu=lr&lt\n",
      "lv=1&lu\n",
      "lz=lv<<15\n",
      "lx=lw|lv\n",
      "ma=ly|lz\n",
      "a=lx\n"
     ]
    }
   ],
   "source": [
    "# use the magical TSORT binary to apply topological sorting\n",
    "# \"According to its info[2] page, this command was initially written for providing an \n",
    "# \"ordering of object files that allowed the linker to process them sequentially (each\"\n",
    "# one exactly once, and in order).\n",
    "\n",
    "d 7 |\n",
    "awk -F-\\> '{print $2\"=\"$1}' |\n",
    "sed '\n",
    "    s/AND/\\&/;\n",
    "    s/OR/|/;\n",
    "    s/LSHIFT/<</;\n",
    "    s/RSHIFT/>>/;\n",
    "    s/NOT/65535^/;\n",
    "    s/ //g;\n",
    "' |\n",
    "awk -F'[^a-z0-9]' '\n",
    "    {E[$1]=$0}\n",
    "    END{for(i in E) {\n",
    "        split(E[i],A);\n",
    "        if(E[A[2]]) print E[A[2]], E[i];\n",
    "        if(E[A[3]]) print E[A[3]], E[i];\n",
    "    }}\n",
    "' |\n",
    "tsort"
   ]
  },
  {
   "cell_type": "code",
   "execution_count": 97,
   "metadata": {},
   "outputs": [
    {
     "name": "stdout",
     "output_type": "stream",
     "text": [
      "  File \"<stdin>\", line 44\n",
      "    as=aq|ar\n",
      "     ^\n",
      "SyntaxError: invalid syntax\n"
     ]
    },
    {
     "ename": "",
     "evalue": "1",
     "output_type": "error",
     "traceback": []
    }
   ],
   "source": [
    "# add a print to the end and execute with python\n",
    "d 7 |\n",
    "awk -F-\\> '{print $2\"=\"$1}' |\n",
    "sed '\n",
    "    s/AND/\\&/;\n",
    "    s/OR/|/;\n",
    "    s/LSHIFT/<</;\n",
    "    s/RSHIFT/>>/;\n",
    "    s/NOT/65535^/;\n",
    "    s/ //g;\n",
    "' |\n",
    "awk -F'[^a-z0-9]' '\n",
    "    {E[$1]=$0}\n",
    "    END{for(i in E) {\n",
    "        split(E[i],A);\n",
    "        if(E[A[2]]) print E[A[2]], E[i];\n",
    "        if(E[A[3]]) print E[A[3]], E[i];\n",
    "    }}\n",
    "' |\n",
    "tsort |\n",
    "sed '$aprint(a)' |\n",
    "python"
   ]
  },
  {
   "cell_type": "code",
   "execution_count": 98,
   "metadata": {},
   "outputs": [],
   "source": [
    "# no! convert to uppercase with `tr a-z A-Z` first!"
   ]
  },
  {
   "cell_type": "code",
   "execution_count": 99,
   "metadata": {},
   "outputs": [
    {
     "name": "stdout",
     "output_type": "stream",
     "text": [
      "16076\n"
     ]
    }
   ],
   "source": [
    "# reorder dependency graph into edge-list\n",
    "d 7|awk -F-\\> '{print $2\"=\"$1}'|sed 's/AND/\\&/;s/OR/|/;s/LSHIFT/<</;s/RSHIFT/>>/;s/NOT/65535^/;s/ //g;'|\n",
    "tr a-z A-Z|awk -F'[^A-Z0-9]' '{E[$1]=$0}END{for(i in E) {split(E[i],A);if(E[A[2]]) print E[A[2]], E[i];\n",
    "if(E[A[3]]) print E[A[3]], E[i];}}'|tsort|sed '$aprint(A)'|python"
   ]
  }
 ],
 "metadata": {
  "kernelspec": {
   "display_name": "Bash",
   "language": "bash",
   "name": "bash"
  },
  "language_info": {
   "codemirror_mode": "shell",
   "file_extension": ".sh",
   "mimetype": "text/x-sh",
   "name": "bash"
  }
 },
 "nbformat": 4,
 "nbformat_minor": 2
}
